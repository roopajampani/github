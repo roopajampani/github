{
    "cells": [
        {
            "metadata": {
                "collapsed": true
            },
            "cell_type": "markdown",
            "source": "# The Battle of Neighborhoods"
        },
        {
            "metadata": {},
            "cell_type": "markdown",
            "source": "# Week 4: Part 1"
        },
        {
            "metadata": {},
            "cell_type": "markdown",
            "source": "# Introduction/Business Problem:"
        },
        {
            "metadata": {},
            "cell_type": "markdown",
            "source": "# How to choose the best location to start an Asian Restaurant in London?"
        },
        {
            "metadata": {},
            "cell_type": "markdown",
            "source": "Opening a restaurant is all about location, location, location. However, not every\nrestaurant is suitable for every location, and vice versa. It comes down to a combination of\nrestaurant style, target audience, your competitors. If you can define your restaurant type\nand identify your target demographic and its most populated areas, you\u2019ll be well on your\nway to choosing a restaurant location that sets your business up for success.There\u2019s a lot\nof work, planning and preparation that goes into opening a restaurant. Here are a few tips\non how to open a restaurant in Atlanta and some steps you\u2019ll need to take in order to\nachieve your goal.\n"
        },
        {
            "metadata": {},
            "cell_type": "markdown",
            "source": "### 1. Restuarant style: The first thing you need to decide is what type of restaurant you want\nto open and the style it will hold. Having this set in stone will make the other steps a lot\neasier. To make things a little easier, here are three categories you need to consider:\n\u2022 Food: What type of food will you be serving? Will you specialise in a certain\ncuisine?\n\u2022 Service: What type of service will you be providing? Waiter service? Self-service?\n\u2022 Atmosphere: What type of atmosphere do you want your establishment to hold?\nDo you want to open a casual, self-service cafe? Or a fine-dining, high-end\nrestaurant?\n"
        },
        {
            "metadata": {},
            "cell_type": "markdown",
            "source": "### 2. Your Target Market:\nIn order to open an asian restaurant in London, you need to be familiar with exactly\nwho you are aiming to bring into your venue. Are you targeting audience from Indian,\nPaskistani, Bangladeshhi and Chinese origin ? You need to also be aware of the age\ngroup, the location, the amount of money they are willing to spend."
        },
        {
            "metadata": {},
            "cell_type": "markdown",
            "source": "### 3. Who are your competitors?\nAs well as familiarising yourself with your audience, you must do so with your\ncompetitors. Look at similar businesses in your area and well-renowned restaurants of\nthe same category. Consider the ways in which they market themselves and the service\nthey provide. What works and what doesn\u2019t? You\u2019ll need to be able to compete with\nthese establishments, so take on board what they\u2019re already doing and better it.\nBe aware of the type of your establishment and the number of similar restaurants in\nthe area you are looking to open it. If there is already a lot of them, chances are you\u2019re\nentering business in an over-saturated area and the potential for you to succeed\nquickly may be diminished. Consider opening in an area where there is a gap in the\nmarket and demand for your service. However, you must also consider the opposing. If\nthere are no restaurants in the area similar to your concept, why? It could simply be\nthat nobody has followed that path yet, or because it will not work. Do your research\nto ensure you have the right location to suit your restaurant.\n"
        },
        {
            "metadata": {},
            "cell_type": "markdown",
            "source": "### 4. Create your menu:\nThe menu is the core of any restaurant. It\u2019s important you get it right, as it\u2019s the\ndeciding factor for customers deliberating a visit. Your service could be impeccable,\ndecor and atmosphere exquisite, but without a menu to match, you shall have no such\nluck in success. So when you are targeting the asian ethnicity audience, your menu\nshould include cuisines from India, Pakistan, Bangladesh and China.\n"
        },
        {
            "metadata": {},
            "cell_type": "markdown",
            "source": "### 5. Location and Premises:\nThere are many factors that will contribute to where you decide your premises to be. It\ncan be challenging to find a venue that will factor in all of your conditions, so it is likely\nyou will have to compromise on a few things. However, here are the main factors you\nshould consider when finding premises for your new restaurant:\n\na.Location: How accessible is the location? Are there many competitors\nnearby?\\\nb. Building type: What type of building would you like your restaurant to be in?\\\nc. Target market: Make sure it is in an area where your target market is also.\\\nd. Cost: Your ideal location may prove to be a little costly. Make sure that there\nis a realistic price point."
        },
        {
            "metadata": {},
            "cell_type": "code",
            "source": "",
            "execution_count": null,
            "outputs": []
        }
    ],
    "metadata": {
        "kernelspec": {
            "name": "python3",
            "display_name": "Python 3.6",
            "language": "python"
        },
        "language_info": {
            "name": "python",
            "version": "3.6.9",
            "mimetype": "text/x-python",
            "codemirror_mode": {
                "name": "ipython",
                "version": 3
            },
            "pygments_lexer": "ipython3",
            "nbconvert_exporter": "python",
            "file_extension": ".py"
        }
    },
    "nbformat": 4,
    "nbformat_minor": 1
}
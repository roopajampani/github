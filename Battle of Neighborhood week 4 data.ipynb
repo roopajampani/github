{
    "cells": [
        {
            "metadata": {
                "collapsed": true
            },
            "cell_type": "markdown",
            "source": "## Data Section:"
        },
        {
            "metadata": {},
            "cell_type": "markdown",
            "source": "London is one of the most ethnically diverse cities in the world. At the 2011 census,\nLondon had a population of 8,173,941. Of this number, 44.9% were White British. 37% of\nthe population were born outside the UK, including 24.5% born outside of Europe."
        },
        {
            "metadata": {},
            "cell_type": "markdown",
            "source": "The demography of London is analysed by the Office for National Statistic and data is\nproduced for each of the Greater London wards, the City of London and the 32 London\nboroughs, the Inner London and Outer London statistical sub-regions, each of the\nParliamentary constituencies in London, and for all of Greater London as a whole.\n"
        },
        {
            "metadata": {},
            "cell_type": "markdown",
            "source": "For our restaurant problem, we will focus on the Boroughs of London and work on getting\nthe data from all the Boroughs. There are 32 London Boroughs with a population of around\n150,000 to 300,000."
        },
        {
            "metadata": {},
            "cell_type": "markdown",
            "source": "To solve our problem of finding a best location to start an Asian restaurant in London, we\nneed to datasets based on various parameters such as : "
        },
        {
            "metadata": {},
            "cell_type": "markdown",
            "source": "1. Population of target audience in all the boroughs of London based on their :\\\n\u2022 Asian ethnicity\\\n\u2022 Age\\\n\u2022 Gender\\\n\u2022 Marital Status\\\n\u2022 Employment Status\\\n\u2022 Income"
        },
        {
            "metadata": {},
            "cell_type": "markdown",
            "source": "2. We also need the data about the required Business floorspace and Rateable Value\nstatistics of each borough."
        },
        {
            "metadata": {},
            "cell_type": "markdown",
            "source": "3. Considering the competitors factor, we also need the data of extsing Licensed\nRestaurants in each borough."
        },
        {
            "metadata": {},
            "cell_type": "markdown",
            "source": "4. And lastly we will also consider the borough level tourist and domestic annual spend\nestimates.\n"
        },
        {
            "metadata": {},
            "cell_type": "markdown",
            "source": "All the above required information is available at London Datastore, which is a free and\nopen data-sharing portal where anyone can access data relating to the city. The data is\navailable in XLS and CSV format, which we can download and can use as-is for solving our\nproblem.\\\nThe link for the London Datastore - https://data.london.gov.uk/ \\\nAlong with the above datasets we will also use the Foursquare location data to solve our\nproblem."
        },
        {
            "metadata": {},
            "cell_type": "code",
            "source": "",
            "execution_count": null,
            "outputs": []
        }
    ],
    "metadata": {
        "kernelspec": {
            "name": "python3",
            "display_name": "Python 3.6",
            "language": "python"
        },
        "language_info": {
            "name": "python",
            "version": "3.6.9",
            "mimetype": "text/x-python",
            "codemirror_mode": {
                "name": "ipython",
                "version": 3
            },
            "pygments_lexer": "ipython3",
            "nbconvert_exporter": "python",
            "file_extension": ".py"
        }
    },
    "nbformat": 4,
    "nbformat_minor": 1
}